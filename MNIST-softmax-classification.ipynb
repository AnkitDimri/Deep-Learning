{
 "cells": [
  {
   "cell_type": "code",
   "execution_count": 21,
   "metadata": {},
   "outputs": [],
   "source": [
    "import numpy as np\n",
    "import pandas as pd\n",
    "import matplotlib.pyplot as plt"
   ]
  },
  {
   "cell_type": "code",
   "execution_count": 170,
   "metadata": {},
   "outputs": [],
   "source": [
    "mnist_train = pd.read_csv (\"datasets/mnist_train.csv\")\n",
    "X_train = np.array (mnist_train.values [:, 1:])\n",
    "y_train = np.array (mnist_train.values [:, 0])\n",
    "\n",
    "mnist_test = pd.read_csv (\"datasets/mnist_test.csv\")\n",
    "X_test = np.array (mnist_test.values [:, 1:])\n",
    "y_test = np.array (mnist_test.values [:, 0])"
   ]
  },
  {
   "cell_type": "code",
   "execution_count": 171,
   "metadata": {},
   "outputs": [],
   "source": [
    "Y_train, Y_test = np.zeros((y_train.shape[0], 10)), np.zeros((y_test.shape[0], 10))\n",
    "for i in range(len(y_train)):\n",
    "    Y_train [i, y_train[i]] = 1;\n",
    "\n",
    "for k in range(len(y_test)):\n",
    "    Y_test[k, y_test[k]] = 1;"
   ]
  },
  {
   "cell_type": "code",
   "execution_count": 172,
   "metadata": {},
   "outputs": [
    {
     "name": "stdout",
     "output_type": "stream",
     "text": [
      "Train set: X:  (784, 60000)   Y:  (10, 60000)\n",
      "Test set: X:  (784, 10000)   Y:  (10, 10000)\n"
     ]
    }
   ],
   "source": [
    "#printing the shape of the datasets\n",
    "X_train = X_train.T\n",
    "X_test = X_test.T\n",
    "Y_train = Y_train.T\n",
    "Y_test = Y_test.T\n",
    "print (\"Train set: X: \", X_train.shape, \"  Y: \", Y_train.shape)\n",
    "print (\"Test set: X: \", X_test.shape, \"  Y: \", Y_test.shape)\n",
    "X_train = X_train.astype('float32') / 255.\n",
    "X_test = X_test.astype('float32') / 255."
   ]
  },
  {
   "cell_type": "code",
   "execution_count": 173,
   "metadata": {},
   "outputs": [],
   "source": [
    "np.random.seed (1)"
   ]
  },
  {
   "cell_type": "code",
   "execution_count": 232,
   "metadata": {},
   "outputs": [],
   "source": [
    "#initializing the model parameters\n",
    "def initialize_params (shape):\n",
    "    \n",
    "    parameters = {}\n",
    "    \n",
    "    for i in range (0, len (shape) - 1):\n",
    "        \n",
    "        w = np.random.rand (shape [i+1], shape [i])\n",
    "        b = np.zeros ((shape [i+1],1))\n",
    "        \n",
    "        parameters ['W' + str (i+1)] = w\n",
    "        parameters ['b' + str (i+1)] = b\n",
    "    \n",
    "    return parameters"
   ]
  },
  {
   "cell_type": "code",
   "execution_count": 211,
   "metadata": {},
   "outputs": [],
   "source": [
    "def forward_prop (X, W, b):\n",
    "    \n",
    "    z = np.dot (W, X) + b\n",
    "    a = softmax (z)\n",
    "    return a"
   ]
  },
  {
   "cell_type": "code",
   "execution_count": 205,
   "metadata": {},
   "outputs": [],
   "source": [
    "def softmax(x):\n",
    "    x = np.exp (x)\n",
    "    return x/np.sum (x, axis = 0, keepdims = True)"
   ]
  },
  {
   "cell_type": "code",
   "execution_count": 206,
   "metadata": {},
   "outputs": [],
   "source": [
    "def compute_cost (Y, a):\n",
    "    \n",
    "    m = Y.shape[1]\n",
    "    \n",
    "    cost = (-1/m) * np.sum (Y * np.log (a))\n",
    "    \n",
    "    return cost"
   ]
  },
  {
   "cell_type": "code",
   "execution_count": 207,
   "metadata": {},
   "outputs": [],
   "source": [
    "def backprop(X, Y, A):\n",
    "    m = Y.shape[1]\n",
    "    dw = (1/m) * np.dot(X, (A - Y).T)\n",
    "    db = (1/m) * np.sum(A - Y)\n",
    "\n",
    "    return dw, db"
   ]
  },
  {
   "cell_type": "code",
   "execution_count": 215,
   "metadata": {},
   "outputs": [],
   "source": [
    "def train (X, Y, parameters, l_rate, iterations):\n",
    "    cost = []\n",
    "    for i in range(iterations):\n",
    "        a = forward_prop (X, parameters ['W1'], parameters ['b1'])\n",
    "        \n",
    "        c = compute_cost(Y, a)\n",
    "        dw, db = backprop(X, Y, a)\n",
    "\n",
    "        parameters ['W1'] = parameters['W1'] - l_rate * dw.T\n",
    "        parameters ['b1'] = parameters['b1'] - l_rate * db.T\n",
    "\n",
    "        if i % 100 == 0:\n",
    "            print(\"Iteration: {}, Loss: {}\".format (i, c))\n",
    "        \n",
    "        cost.append(c)\n",
    "    return parameters, cost"
   ]
  },
  {
   "cell_type": "code",
   "execution_count": null,
   "metadata": {},
   "outputs": [],
   "source": []
  },
  {
   "cell_type": "code",
   "execution_count": null,
   "metadata": {},
   "outputs": [],
   "source": []
  },
  {
   "cell_type": "code",
   "execution_count": null,
   "metadata": {},
   "outputs": [],
   "source": []
  },
  {
   "cell_type": "code",
   "execution_count": 234,
   "metadata": {},
   "outputs": [],
   "source": [
    "def model (X, Y, iters, l_rate, shape):\n",
    "    parameters = initialize_params (shape)\n",
    "    parameters, cost = train (X, Y, parameters, l_rate, iters)\n",
    "    return parameters, cost"
   ]
  },
  {
   "cell_type": "code",
   "execution_count": 235,
   "metadata": {
    "scrolled": true
   },
   "outputs": [
    {
     "name": "stdout",
     "output_type": "stream",
     "text": [
      "Iteration: 0, Loss: 4.310907250363945\n",
      "Iteration: 100, Loss: 2.5076947778118917\n",
      "Iteration: 200, Loss: 1.911330466056339\n",
      "Iteration: 300, Loss: 1.5728254554434224\n",
      "Iteration: 400, Loss: 1.3532499391817554\n",
      "Iteration: 500, Loss: 1.2019281692765238\n",
      "Iteration: 600, Loss: 1.0922716753722401\n",
      "Iteration: 700, Loss: 1.0094117241957632\n",
      "Iteration: 800, Loss: 0.9446125794951432\n",
      "Iteration: 900, Loss: 0.8924921064840156\n"
     ]
    }
   ],
   "source": [
    "\n",
    "parameters, cost = mprobs = forward(parameters,X)\n",
    "    y_hat = np.argmax(probs, axis=0)\n",
    "    Y = np.argmax(Y, axis=0)\n",
    "    accuracy = (y_hat == Y).mean()odel (X_train, Y_train, 1000, 0.01, [X_train.shape [0], 10])"
   ]
  },
  {
   "cell_type": "code",
   "execution_count": 236,
   "metadata": {},
   "outputs": [],
   "source": [
    "def accuracy (X, Y, parameters):\n",
    "    a = forward_prop (X, parameters ['W1'], parameters ['b1'])\n",
    "    a = np.argmax (a, axis=0)\n",
    "    Y = np.argmax (Y, axis=0)\n",
    "    acc = (a == Y).mean ()\n",
    "\n",
    "    return acc * 100"
   ]
  },
  {
   "cell_type": "code",
   "execution_count": 237,
   "metadata": {},
   "outputs": [
    {
     "data": {
      "text/plain": [
       "74.76"
      ]
     },
     "execution_count": 237,
     "metadata": {},
     "output_type": "execute_result"
    }
   ],
   "source": [
    "accuracy (X_test, Y_test, parameters)"
   ]
  },
  {
   "cell_type": "code",
   "execution_count": 238,
   "metadata": {},
   "outputs": [
    {
     "data": {
      "text/plain": [
       "73.09166666666667"
      ]
     },
     "execution_count": 238,
     "metadata": {},
     "output_type": "execute_result"
    }
   ],
   "source": [
    "accuracy (X_train, Y_train, parameters)"
   ]
  },
  {
   "cell_type": "code",
   "execution_count": 239,
   "metadata": {},
   "outputs": [
    {
     "name": "stdout",
     "output_type": "stream",
     "text": [
      "(10, 784) (10, 1)\n"
     ]
    }
   ],
   "source": [
    "print (parameters['W1'].shape, parameters['b1'].shape)"
   ]
  },
  {
   "cell_type": "code",
   "execution_count": 240,
   "metadata": {},
   "outputs": [
    {
     "data": {
      "text/plain": [
       "[<matplotlib.lines.Line2D at 0x7f31eb079cd0>]"
      ]
     },
     "execution_count": 240,
     "metadata": {},
     "output_type": "execute_result"
    },
    {
     "data": {
      "image/png": "[encoded data removed]",
      "text/plain": [
       "<Figure size 432x288 with 1 Axes>"
      ]
     },
     "metadata": {
      "needs_background": "light"
     },
     "output_type": "display_data"
    }
   ],
   "source": [
    "plt.plot(range(len(cost)),cost)"
   ]
  },
  {
   "cell_type": "code",
   "execution_count": null,
   "metadata": {},
   "outputs": [],
   "source": []
  }
 ],
 "metadata": {
  "kernelspec": {
   "display_name": "Python 3",
   "language": "python",
   "name": "python3"
  },
  "language_info": {
   "codemirror_mode": {
    "name": "ipython",
    "version": 3
   },
   "file_extension": ".py",
   "mimetype": "text/x-python",
   "name": "python",
   "nbconvert_exporter": "python",
   "pygments_lexer": "ipython3",
   "version": "3.7.5"
  }
 },
 "nbformat": 4,
 "nbformat_minor": 4
}

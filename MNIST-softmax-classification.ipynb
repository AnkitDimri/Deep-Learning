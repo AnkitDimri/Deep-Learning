{
 "cells": [
  {
   "cell_type": "code",
   "execution_count": 1,
   "metadata": {},
   "outputs": [],
   "source": [
    "import numpy as np\n",
    "import pandas as pd\n",
    "import matplotlib.pyplot as plt"
   ]
  },
  {
   "cell_type": "code",
   "execution_count": 2,
   "metadata": {},
   "outputs": [],
   "source": [
    "mnist_train = pd.read_csv (\"datasets/mnist_train.csv\")\n",
    "X_train = np.array (mnist_train.values [:, 1:])\n",
    "y_train = np.array (mnist_train.values [:, 0])\n",
    "\n",
    "mnist_test = pd.read_csv (\"datasets/mnist_test.csv\")\n",
    "X_test = np.array (mnist_test.values [:, 1:])\n",
    "y_test = np.array (mnist_test.values [:, 0])"
   ]
  },
  {
   "cell_type": "code",
   "execution_count": 3,
   "metadata": {},
   "outputs": [],
   "source": [
    "Y_train, Y_test = np.zeros((y_train.shape[0], 10)), np.zeros((y_test.shape[0], 10))\n",
    "for i in range(len(y_train)):\n",
    "    Y_train [i, y_train[i]] = 1;\n",
    "\n",
    "for k in range(len(y_test)):\n",
    "    Y_test[k, y_test[k]] = 1;"
   ]
  },
  {
   "cell_type": "code",
   "execution_count": 4,
   "metadata": {},
   "outputs": [
    {
     "name": "stdout",
     "output_type": "stream",
     "text": [
      "Train set: X:  (784, 60000)   Y:  (10, 60000)\n",
      "Test set: X:  (784, 10000)   Y:  (10, 10000)\n"
     ]
    }
   ],
   "source": [
    "#printing the shape of the datasets\n",
    "X_train = X_train.T\n",
    "X_test = X_test.T\n",
    "Y_train = Y_train.T\n",
    "Y_test = Y_test.T\n",
    "print (\"Train set: X: \", X_train.shape, \"  Y: \", Y_train.shape)\n",
    "print (\"Test set: X: \", X_test.shape, \"  Y: \", Y_test.shape)\n",
    "X_train = X_train.astype('float32') / 255.\n",
    "X_test = X_test.astype('float32') / 255."
   ]
  },
  {
   "cell_type": "code",
   "execution_count": 5,
   "metadata": {},
   "outputs": [],
   "source": [
    "np.random.seed (1)"
   ]
  },
  {
   "cell_type": "code",
   "execution_count": 6,
   "metadata": {},
   "outputs": [],
   "source": [
    "#initializing the model parameters\n",
    "def initialize_params (shape):\n",
    "    \n",
    "    parameters = {}\n",
    "    \n",
    "    for i in range (0, len (shape) - 1):\n",
    "        \n",
    "        w = np.random.rand (shape [i+1], shape [i])/np.sqrt (784)\n",
    "        b = np.zeros ((shape [i+1],1))\n",
    "        \n",
    "        parameters ['W' + str (i+1)] = w\n",
    "        parameters ['b' + str (i+1)] = b\n",
    "    \n",
    "    return parameters"
   ]
  },
  {
   "cell_type": "code",
   "execution_count": 7,
   "metadata": {},
   "outputs": [],
   "source": [
    "def forward_prop (X, W, b):\n",
    "    \n",
    "    z = np.dot (W, X) + b\n",
    "    a = softmax (z)\n",
    "    return a"
   ]
  },
  {
   "cell_type": "code",
   "execution_count": 8,
   "metadata": {},
   "outputs": [],
   "source": [
    "def softmax(x):\n",
    "    x = np.exp (x)\n",
    "    return x/np.sum (x, axis = 0, keepdims = True)"
   ]
  },
  {
   "cell_type": "code",
   "execution_count": 9,
   "metadata": {},
   "outputs": [],
   "source": [
    "def compute_cost (Y, a):\n",
    "    \n",
    "    m = Y.shape[1]\n",
    "    \n",
    "    cost = (-1/m) * np.sum (Y * np.log (a))\n",
    "    \n",
    "    return cost"
   ]
  },
  {
   "cell_type": "code",
   "execution_count": 10,
   "metadata": {},
   "outputs": [],
   "source": [
    "def backprop(X, Y, A):\n",
    "    m = Y.shape[1]\n",
    "    dw = (1/m) * np.dot(X, (A - Y).T)\n",
    "    db = (1/m) * np.sum(A - Y)\n",
    "\n",
    "    return dw, db"
   ]
  },
  {
   "cell_type": "code",
   "execution_count": 11,
   "metadata": {},
   "outputs": [],
   "source": [
    "def train (X, Y, parameters, l_rate, iterations):\n",
    "    cost = []\n",
    "    for i in range(iterations):\n",
    "        a = forward_prop (X, parameters ['W1'], parameters ['b1'])\n",
    "        \n",
    "        c = compute_cost(Y, a)\n",
    "        dw, db = backprop(X, Y, a)\n",
    "\n",
    "        parameters ['W1'] = parameters['W1'] - l_rate * dw.T\n",
    "        parameters ['b1'] = parameters['b1'] - l_rate * db.T\n",
    "\n",
    "        if i % 100 == 0:\n",
    "            print(\"Iteration: {}, Loss: {}\".format (i, c))\n",
    "        \n",
    "        cost.append(c)\n",
    "    return parameters, cost"
   ]
  },
  {
   "cell_type": "code",
   "execution_count": null,
   "metadata": {},
   "outputs": [],
   "source": []
  },
  {
   "cell_type": "code",
   "execution_count": null,
   "metadata": {},
   "outputs": [],
   "source": []
  },
  {
   "cell_type": "code",
   "execution_count": null,
   "metadata": {},
   "outputs": [],
   "source": []
  },
  {
   "cell_type": "code",
   "execution_count": 12,
   "metadata": {},
   "outputs": [],
   "source": [
    "def model (X, Y, iters, l_rate, shape):\n",
    "    parameters = initialize_params (shape)\n",
    "    parameters, cost = train (X, Y, parameters, l_rate, iters)\n",
    "    return parameters, cost"
   ]
  },
  {
   "cell_type": "code",
   "execution_count": 13,
   "metadata": {
    "scrolled": true
   },
   "outputs": [
    {
     "name": "stdout",
     "output_type": "stream",
     "text": [
      "Iteration: 0, Loss: 2.301208417860678\n",
      "Iteration: 100, Loss: 0.6115047607168889\n",
      "Iteration: 200, Loss: 0.4923627467213141\n",
      "Iteration: 300, Loss: 0.44361239744133824\n",
      "Iteration: 400, Loss: 0.4156492053208876\n",
      "Iteration: 500, Loss: 0.39697776022236736\n",
      "Iteration: 600, Loss: 0.38337742564437766\n",
      "Iteration: 700, Loss: 0.3728964346500906\n",
      "Iteration: 800, Loss: 0.3644942866445511\n",
      "Iteration: 900, Loss: 0.35755955952488405\n",
      "Iteration: 1000, Loss: 0.35170648158595746\n",
      "Iteration: 1100, Loss: 0.34667806251371613\n",
      "Iteration: 1200, Loss: 0.34229559938424164\n",
      "Iteration: 1300, Loss: 0.3384304358614\n",
      "Iteration: 1400, Loss: 0.33498724927777346\n"
     ]
    }
   ],
   "source": [
    "\n",
    "parameters, cost = model (X_train, Y_train, 1500, 0.1, [X_train.shape [0], 10])"
   ]
  },
  {
   "cell_type": "code",
   "execution_count": 14,
   "metadata": {},
   "outputs": [],
   "source": [
    "def accuracy (X, Y, parameters):\n",
    "    a = forward_prop (X, parameters ['W1'], parameters ['b1'])\n",
    "    a = np.argmax (a, axis=0)\n",
    "    Y = np.argmax (Y, axis=0)\n",
    "    acc = (a == Y).mean ()\n",
    "\n",
    "    return acc * 100"
   ]
  },
  {
   "cell_type": "code",
   "execution_count": 17,
   "metadata": {},
   "outputs": [
    {
     "data": {
      "text/plain": [
       "91.25999999999999"
      ]
     },
     "execution_count": 17,
     "metadata": {},
     "output_type": "execute_result"
    }
   ],
   "source": [
    "accuracy (X_test, Y_test, parameters)"
   ]
  },
  {
   "cell_type": "code",
   "execution_count": 18,
   "metadata": {},
   "outputs": [
    {
     "data": {
      "text/plain": [
       "90.83666666666666"
      ]
     },
     "execution_count": 18,
     "metadata": {},
     "output_type": "execute_result"
    }
   ],
   "source": [
    "accuracy (X_train, Y_train, parameters)"
   ]
  },
  {
   "cell_type": "code",
   "execution_count": 19,
   "metadata": {},
   "outputs": [
    {
     "name": "stdout",
     "output_type": "stream",
     "text": [
      "(10, 784) (10, 1)\n"
     ]
    }
   ],
   "source": [
    "print (parameters['W1'].shape, parameters['b1'].shape)"
   ]
  },
  {
   "cell_type": "code",
   "execution_count": 20,
   "metadata": {},
   "outputs": [
    {
     "data": {
      "text/plain": [
       "[<matplotlib.lines.Line2D at 0x7f3f65dcc810>]"
      ]
     },
     "execution_count": 20,
     "metadata": {},
     "output_type": "execute_result"
    },
    {
     "data": {
      "image/png": "[encoded data removed]",
      "text/plain": [
       "<Figure size 432x288 with 1 Axes>"
      ]
     },
     "metadata": {
      "needs_background": "light"
     },
     "output_type": "display_data"
    }
   ],
   "source": [
    "plt.plot(range(len(cost)),cost)"
   ]
  },
  {
   "cell_type": "code",
   "execution_count": 23,
   "metadata": {},
   "outputs": [
    {
     "data": {
      "image/png": "[encoded data removed]",
      "text/plain": [
       "<Figure size 1440x432 with 10 Axes>"
      ]
     },
     "metadata": {
      "needs_background": "light"
     },
     "output_type": "display_data"
    }
   ],
   "source": [
    "n = 10\n",
    "plt.figure(figsize=(20, 6))\n",
    "for i in range(10):\n",
    "    plt.gray ()\n",
    "    ax = plt.subplot(2, 10, i + 1)\n",
    "    plt.imshow(parameters['W1'][i,:].reshape(28, 28))\n",
    "    ax.get_xaxis().set_visible(False)\n",
    "    ax.get_yaxis().set_visible(False)\n",
    "\n",
    "plt.show()"
   ]
  },
  {
   "cell_type": "code",
   "execution_count": null,
   "metadata": {},
   "outputs": [],
   "source": []
  }
 ],
 "metadata": {
  "kernelspec": {
   "display_name": "Python 3",
   "language": "python",
   "name": "python3"
  },
  "language_info": {
   "codemirror_mode": {
    "name": "ipython",
    "version": 3
   },
   "file_extension": ".py",
   "mimetype": "text/x-python",
   "name": "python",
   "nbconvert_exporter": "python",
   "pygments_lexer": "ipython3",
   "version": "3.7.5"
  }
 },
 "nbformat": 4,
 "nbformat_minor": 4
}

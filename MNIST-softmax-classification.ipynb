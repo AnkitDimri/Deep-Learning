{
 "cells": [
  {
   "cell_type": "code",
   "execution_count": 21,
   "metadata": {},
   "outputs": [],
   "source": [
    "import numpy as np\n",
    "import pandas as pd\n",
    "import matplotlib.pyplot as plt"
   ]
  },
  {
   "cell_type": "code",
   "execution_count": 62,
   "metadata": {},
   "outputs": [],
   "source": [
    "mnist_train = pd.read_csv (\"datasets/mnist_train.csv\")\n",
    "X_train = np.array (mnist_train.values [:, 1:])\n",
    "Y_train = np.array (mnist_train.values [:, 0])\n",
    "\n",
    "mnist_test = pd.read_csv (\"datasets/mnist_test.csv\")\n",
    "X_test = np.array (mnist_test.values [:, 1:])\n",
    "Y_test = np.array (mnist_test.values [:, 0])"
   ]
  },
  {
   "cell_type": "code",
   "execution_count": 64,
   "metadata": {},
   "outputs": [
    {
     "name": "stdout",
     "output_type": "stream",
     "text": [
      "Train set: X:  (60000, 784)   Y:  (60000,)\n",
      "Test set: X:  (10000, 784)   Y:  (10000,)\n"
     ]
    }
   ],
   "source": [
    "#printing the shape of the datasets\n",
    "print (\"Train set: X: \", X_train.shape, \"  Y: \", Y_train.shape)\n",
    "print (\"Test set: X: \", X_test.shape, \"  Y: \", Y_test.shape)"
   ]
  },
  {
   "cell_type": "code",
   "execution_count": 66,
   "metadata": {},
   "outputs": [],
   "source": [
    "np.random.seed (1)"
   ]
  },
  {
   "cell_type": "code",
   "execution_count": 74,
   "metadata": {},
   "outputs": [],
   "source": [
    "#initializing the model parameters\n",
    "def initialize_params (shape):\n",
    "    \n",
    "    parameters = {}\n",
    "    \n",
    "    for i in range (0, len (shape) - 1):\n",
    "        \n",
    "        w = np.random.rand (shape [i+1], shape [i])\n",
    "        b = np.zeros ((shape [i+1],))\n",
    "        \n",
    "        parameters ['W' + str (i+1)] = w\n",
    "        parameters ['b' + str (i+1)] = b\n",
    "    \n",
    "    return parameters"
   ]
  },
  {
   "cell_type": "code",
   "execution_count": 78,
   "metadata": {},
   "outputs": [],
   "source": [
    "def forward_prop (X, W, b):\n",
    "    \n",
    "    z = np.dot (W, X) + b\n",
    "    a = softmax (z)\n",
    "    \n",
    "    return z"
   ]
  },
  {
   "cell_type": "code",
   "execution_count": 77,
   "metadata": {},
   "outputs": [
    {
     "data": {
      "text/plain": [
       "(10, 784)"
      ]
     },
     "execution_count": 77,
     "metadata": {},
     "output_type": "execute_result"
    }
   ],
   "source": [
    "def softmax(x):\n",
    "    "
   ]
  },
  {
   "cell_type": "code",
   "execution_count": null,
   "metadata": {},
   "outputs": [],
   "source": []
  }
 ],
 "metadata": {
  "kernelspec": {
   "display_name": "Python 3",
   "language": "python",
   "name": "python3"
  },
  "language_info": {
   "codemirror_mode": {
    "name": "ipython",
    "version": 3
   },
   "file_extension": ".py",
   "mimetype": "text/x-python",
   "name": "python",
   "nbconvert_exporter": "python",
   "pygments_lexer": "ipython3",
   "version": "3.7.5"
  }
 },
 "nbformat": 4,
 "nbformat_minor": 4
}
